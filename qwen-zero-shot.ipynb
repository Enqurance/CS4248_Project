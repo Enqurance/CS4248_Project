{
 "cells": [
  {
   "cell_type": "code",
   "execution_count": 3,
   "id": "9d906afe",
   "metadata": {
    "scrolled": false
   },
   "outputs": [
    {
     "name": "stdout",
     "output_type": "stream",
     "text": [
      "Loading Qwen model...\n",
      "Loading SQuAD data...\n",
      "Generating Qwen predictions...\n"
     ]
    },
    {
     "name": "stderr",
     "output_type": "stream",
     "text": [
      " 93%|████████████████████████████████████████████████████████████████████████████████████████████████████████████████████████████████████████████████████████████████████████████████████▎             | 9822/10570 [43:19<02:36,  4.79it/s]IOPub data rate exceeded.\n",
      "The notebook server will temporarily stop sending output\n",
      "to the client in order to avoid crashing it.\n",
      "To change this limit, set the config variable\n",
      "`--NotebookApp.iopub_data_rate_limit`.\n",
      "\n",
      "Current values:\n",
      "NotebookApp.iopub_data_rate_limit=1000000.0 (bytes/sec)\n",
      "NotebookApp.rate_limit_window=3.0 (secs)\n",
      "\n"
     ]
    }
   ],
   "source": [
    "import os\n",
    "import torch\n",
    "import json\n",
    "from transformers import AutoTokenizer, AutoModelForCausalLM\n",
    "from tqdm import tqdm\n",
    "import time\n",
    "\n",
    "# Device setup\n",
    "os.environ[\"CUDA_VISIBLE_DEVICES\"] = \"1\"\n",
    "device = torch.device('cuda' if torch.cuda.is_available() else 'cpu')\n",
    "proxy = \"http://sisproxy.hkg.agoda.local:3128\"\n",
    "proxy_config = {\"http\": proxy, \"https\": proxy}\n",
    "\n",
    "def load_qwen():\n",
    "    \"\"\"Load Qwen model and tokenizer\"\"\"\n",
    "    model_name = \"Qwen/Qwen2.5-1.5B-Instruct\"\n",
    "    \n",
    "    model = AutoModelForCausalLM.from_pretrained(\n",
    "        model_name,\n",
    "        torch_dtype=\"auto\",\n",
    "        device_map=\"auto\",\n",
    "        proxies=proxy_config,\n",
    "        trust_remote_code=True\n",
    "    )\n",
    "    \n",
    "    tokenizer = AutoTokenizer.from_pretrained(\n",
    "        model_name,\n",
    "        proxies=proxy_config,\n",
    "        trust_remote_code=True\n",
    "    )\n",
    "    \n",
    "    return model, tokenizer\n",
    "\n",
    "def load_squad_data(squad_file: str):\n",
    "    \"\"\"Load SQuAD data and return question IDs with corresponding questions and contexts\"\"\"\n",
    "    with open(squad_file, 'r') as f:\n",
    "        squad_data = json.load(f)\n",
    "    \n",
    "    qa_info = {}\n",
    "    for article in squad_data['data']:\n",
    "        for paragraph in article['paragraphs']:\n",
    "            context = paragraph['context']\n",
    "            for qa in paragraph['qas']:\n",
    "                qa_info[qa['id']] = {\n",
    "                    'question': qa['question'],\n",
    "                    'context': context\n",
    "                }\n",
    "    \n",
    "    return qa_info\n",
    "\n",
    "def get_qwen_prediction(model, tokenizer, question: str, context: str) -> str:\n",
    "    \"\"\"Get direct prediction from Qwen for a single question\"\"\"\n",
    "    messages = [\n",
    "        {\n",
    "            \"role\": \"system\",\n",
    "            \"content\": \"You are a helpful expert at reading comprehension. Your task is to answer the given question based on the provided context. Only provide the exact answer text, no explanations.\"\n",
    "        },\n",
    "        {\n",
    "            \"role\": \"user\",\n",
    "            \"content\": f\"\"\"Context: {context}\n",
    "\n",
    "Question: {question}\n",
    "\n",
    "Answer the question based on the context above. Provide only the exact answer text, no explanations.\"\"\"\n",
    "        }\n",
    "    ]\n",
    "    \n",
    "    text = tokenizer.apply_chat_template(\n",
    "        messages,\n",
    "        tokenize=False,\n",
    "        add_generation_prompt=True\n",
    "    )\n",
    "    \n",
    "    model_inputs = tokenizer([text], return_tensors=\"pt\").to(model.device)\n",
    "    \n",
    "    with torch.inference_mode():\n",
    "        generated_ids = model.generate(\n",
    "            **model_inputs,\n",
    "            max_new_tokens=50,  # Reduced since we expect shorter answers\n",
    "            do_sample=True,\n",
    "            temperature=0.7,\n",
    "            top_p=0.9\n",
    "        )\n",
    "    \n",
    "    generated_ids = [\n",
    "        output_ids[len(input_ids):] for input_ids, output_ids \n",
    "        in zip(model_inputs.input_ids, generated_ids)\n",
    "    ]\n",
    "    \n",
    "    response = tokenizer.batch_decode(generated_ids, skip_special_tokens=True)[0]\n",
    "    \n",
    "    return response.strip()\n",
    "\n",
    "def create_qwen_predictions(squad_file: str, output_file: str):\n",
    "    \"\"\"Create direct Qwen predictions for SQuAD dataset\"\"\"\n",
    "    print(\"Loading Qwen model...\")\n",
    "    model, tokenizer = load_qwen()\n",
    "    \n",
    "    print(\"Loading SQuAD data...\")\n",
    "    qa_info = load_squad_data(squad_file)\n",
    "    \n",
    "    print(\"Generating Qwen predictions...\")\n",
    "    predictions = {}\n",
    "    \n",
    "    for qid, info in tqdm(qa_info.items()):\n",
    "        prediction = get_qwen_prediction(\n",
    "            model,\n",
    "            tokenizer,\n",
    "            info['question'],\n",
    "            info['context']\n",
    "        )\n",
    "        predictions[qid] = prediction\n",
    "    \n",
    "    print(\"Saving predictions...\")\n",
    "    with open(output_file, 'w') as f:\n",
    "        json.dump(predictions, f, indent=2)\n",
    "    \n",
    "    return predictions\n",
    "\n",
    "def main():\n",
    "    # File paths\n",
    "    squad_file = \"dev-v1.1.json\"\n",
    "    output_file = \"qwen_direct_predictions.json\"\n",
    "    \n",
    "    try:\n",
    "        # Create predictions\n",
    "        predictions = create_qwen_predictions(squad_file, output_file)\n",
    "        \n",
    "        # Print sample predictions\n",
    "        print(\"\\nSample predictions:\")\n",
    "        for qid in list(predictions.keys())[:3]:\n",
    "            print(f\"\\nQuestion ID: {qid}\")\n",
    "            print(f\"Prediction: {predictions[qid]}\")\n",
    "        \n",
    "        # Print memory usage\n",
    "        if torch.cuda.is_available():\n",
    "            memory_allocated = torch.cuda.memory_allocated(0) / 1024**2\n",
    "            memory_reserved = torch.cuda.memory_reserved(0) / 1024**2\n",
    "            print(f\"\\nGPU Memory Usage:\")\n",
    "            print(f\"Allocated: {memory_allocated:.2f} MB\")\n",
    "            print(f\"Reserved: {memory_reserved:.2f} MB\")\n",
    "            \n",
    "    except Exception as e:\n",
    "        print(f\"Error: {str(e)}\")\n",
    "        raise\n",
    "\n",
    "if __name__ == \"__main__\":\n",
    "    main()"
   ]
  },
  {
   "cell_type": "code",
   "execution_count": 4,
   "id": "428c60ce",
   "metadata": {},
   "outputs": [
    {
     "name": "stderr",
     "output_type": "stream",
     "text": [
      "huggingface/tokenizers: The current process just got forked, after parallelism has already been used. Disabling parallelism to avoid deadlocks...\n",
      "To disable this warning, you can either:\n",
      "\t- Avoid using `tokenizers` before the fork if possible\n",
      "\t- Explicitly set the environment variable TOKENIZERS_PARALLELISM=(true | false)\n"
     ]
    },
    {
     "name": "stdout",
     "output_type": "stream",
     "text": [
      "{\r\n",
      "  \"exact\": 71.9205298013245,\r\n",
      "  \"f1\": 83.09935420932386,\r\n",
      "  \"total\": 10570,\r\n",
      "  \"HasAns_exact\": 71.9205298013245,\r\n",
      "  \"HasAns_f1\": 83.09935420932386,\r\n",
      "  \"HasAns_total\": 10570\r\n",
      "}\r\n"
     ]
    }
   ],
   "source": [
    "!python evaluate-v2.0.py dev-v1.1.json qwen_direct_predictions.json"
   ]
  },
  {
   "cell_type": "code",
   "execution_count": 7,
   "id": "1d7b7753",
   "metadata": {},
   "outputs": [
    {
     "name": "stderr",
     "output_type": "stream",
     "text": [
      "huggingface/tokenizers: The current process just got forked, after parallelism has already been used. Disabling parallelism to avoid deadlocks...\n",
      "To disable this warning, you can either:\n",
      "\t- Avoid using `tokenizers` before the fork if possible\n",
      "\t- Explicitly set the environment variable TOKENIZERS_PARALLELISM=(true | false)\n"
     ]
    },
    {
     "name": "stdout",
     "output_type": "stream",
     "text": [
      "{\r\n",
      "  \"exact\": 80.54872280037843,\r\n",
      "  \"f1\": 89.39400002730301,\r\n",
      "  \"total\": 10570,\r\n",
      "  \"HasAns_exact\": 80.54872280037843,\r\n",
      "  \"HasAns_f1\": 89.39400002730301,\r\n",
      "  \"HasAns_total\": 10570\r\n",
      "}\r\n"
     ]
    }
   ],
   "source": [
    "!python evaluate-v2.0.py dev-v1.1.json t5_base_predictions.json"
   ]
  },
  {
   "cell_type": "code",
   "execution_count": null,
   "id": "023615a0",
   "metadata": {},
   "outputs": [],
   "source": []
  }
 ],
 "metadata": {
  "kernelspec": {
   "display_name": "Python 3 (ipykernel)",
   "language": "python",
   "name": "python3"
  },
  "language_info": {
   "codemirror_mode": {
    "name": "ipython",
    "version": 3
   },
   "file_extension": ".py",
   "mimetype": "text/x-python",
   "name": "python",
   "nbconvert_exporter": "python",
   "pygments_lexer": "ipython3",
   "version": "3.10.12"
  }
 },
 "nbformat": 4,
 "nbformat_minor": 5
}
